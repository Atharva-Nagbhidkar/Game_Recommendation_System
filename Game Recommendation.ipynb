{
 "cells": [
  {
   "cell_type": "markdown",
   "id": "cefa5a0f",
   "metadata": {},
   "source": [
    "### Import necessary libraries"
   ]
  },
  {
   "cell_type": "code",
   "execution_count": 1,
   "id": "33b73e8d-2dea-4721-bc5c-828c00eadb54",
   "metadata": {},
   "outputs": [],
   "source": [
    "import numpy as np\n",
    "import pandas as pd\n",
    "import matplotlib.pyplot as plt\n",
    "import seaborn as sns\n",
    "import os\n",
    "from nltk.stem import PorterStemmer\n",
    "from sklearn.feature_extraction.text import CountVectorizer\n",
    "from sklearn.metrics.pairwise import cosine_similarity\n",
    "from collections import Counter\n",
    "import pickle"
   ]
  },
  {
   "cell_type": "markdown",
   "id": "d59e075d",
   "metadata": {},
   "source": [
    "### Load the data file"
   ]
  },
  {
   "cell_type": "code",
   "execution_count": 2,
   "id": "09c2e27e-bb73-4458-8819-daf8db40dddb",
   "metadata": {},
   "outputs": [
    {
     "data": {
      "text/html": [
       "<div>\n",
       "<style scoped>\n",
       "    .dataframe tbody tr th:only-of-type {\n",
       "        vertical-align: middle;\n",
       "    }\n",
       "\n",
       "    .dataframe tbody tr th {\n",
       "        vertical-align: top;\n",
       "    }\n",
       "\n",
       "    .dataframe thead th {\n",
       "        text-align: right;\n",
       "    }\n",
       "</style>\n",
       "<table border=\"1\" class=\"dataframe\">\n",
       "  <thead>\n",
       "    <tr style=\"text-align: right;\">\n",
       "      <th></th>\n",
       "      <th>Name</th>\n",
       "      <th>Platform</th>\n",
       "      <th>Year_of_Release</th>\n",
       "      <th>Genre</th>\n",
       "      <th>Publisher</th>\n",
       "      <th>NA_Sales</th>\n",
       "      <th>EU_Sales</th>\n",
       "      <th>JP_Sales</th>\n",
       "      <th>Other_Sales</th>\n",
       "      <th>Global_Sales</th>\n",
       "      <th>Critic_Score</th>\n",
       "      <th>Critic_Count</th>\n",
       "      <th>User_Score</th>\n",
       "      <th>User_Count</th>\n",
       "      <th>Developer</th>\n",
       "      <th>Rating</th>\n",
       "    </tr>\n",
       "  </thead>\n",
       "  <tbody>\n",
       "    <tr>\n",
       "      <th>0</th>\n",
       "      <td>Wii Sports</td>\n",
       "      <td>Wii</td>\n",
       "      <td>2006.0</td>\n",
       "      <td>Sports</td>\n",
       "      <td>Nintendo</td>\n",
       "      <td>41.36</td>\n",
       "      <td>28.96</td>\n",
       "      <td>3.77</td>\n",
       "      <td>8.45</td>\n",
       "      <td>82.53</td>\n",
       "      <td>76.0</td>\n",
       "      <td>51.0</td>\n",
       "      <td>8</td>\n",
       "      <td>322.0</td>\n",
       "      <td>Nintendo</td>\n",
       "      <td>E</td>\n",
       "    </tr>\n",
       "    <tr>\n",
       "      <th>1</th>\n",
       "      <td>Super Mario Bros.</td>\n",
       "      <td>NES</td>\n",
       "      <td>1985.0</td>\n",
       "      <td>Platform</td>\n",
       "      <td>Nintendo</td>\n",
       "      <td>29.08</td>\n",
       "      <td>3.58</td>\n",
       "      <td>6.81</td>\n",
       "      <td>0.77</td>\n",
       "      <td>40.24</td>\n",
       "      <td>NaN</td>\n",
       "      <td>NaN</td>\n",
       "      <td>NaN</td>\n",
       "      <td>NaN</td>\n",
       "      <td>NaN</td>\n",
       "      <td>NaN</td>\n",
       "    </tr>\n",
       "  </tbody>\n",
       "</table>\n",
       "</div>"
      ],
      "text/plain": [
       "                Name Platform  Year_of_Release     Genre Publisher  NA_Sales  \\\n",
       "0         Wii Sports      Wii           2006.0    Sports  Nintendo     41.36   \n",
       "1  Super Mario Bros.      NES           1985.0  Platform  Nintendo     29.08   \n",
       "\n",
       "   EU_Sales  JP_Sales  Other_Sales  Global_Sales  Critic_Score  Critic_Count  \\\n",
       "0     28.96      3.77         8.45         82.53          76.0          51.0   \n",
       "1      3.58      6.81         0.77         40.24           NaN           NaN   \n",
       "\n",
       "  User_Score  User_Count Developer Rating  \n",
       "0          8       322.0  Nintendo      E  \n",
       "1        NaN         NaN       NaN    NaN  "
      ]
     },
     "execution_count": 2,
     "metadata": {},
     "output_type": "execute_result"
    }
   ],
   "source": [
    "df = pd.read_csv('games.csv')\n",
    "df.head(2)"
   ]
  },
  {
   "cell_type": "markdown",
   "id": "48062b7b",
   "metadata": {},
   "source": [
    "### Filter out data, taking only the useful attributes from the dataset."
   ]
  },
  {
   "cell_type": "code",
   "execution_count": 3,
   "id": "5680ead3-b492-465c-8ce4-4c1131987927",
   "metadata": {},
   "outputs": [
    {
     "data": {
      "text/html": [
       "<div>\n",
       "<style scoped>\n",
       "    .dataframe tbody tr th:only-of-type {\n",
       "        vertical-align: middle;\n",
       "    }\n",
       "\n",
       "    .dataframe tbody tr th {\n",
       "        vertical-align: top;\n",
       "    }\n",
       "\n",
       "    .dataframe thead th {\n",
       "        text-align: right;\n",
       "    }\n",
       "</style>\n",
       "<table border=\"1\" class=\"dataframe\">\n",
       "  <thead>\n",
       "    <tr style=\"text-align: right;\">\n",
       "      <th></th>\n",
       "      <th>Name</th>\n",
       "      <th>Platform</th>\n",
       "      <th>Genre</th>\n",
       "      <th>Developer</th>\n",
       "      <th>Critic_Score</th>\n",
       "      <th>User_Score</th>\n",
       "      <th>Rating</th>\n",
       "    </tr>\n",
       "  </thead>\n",
       "  <tbody>\n",
       "    <tr>\n",
       "      <th>0</th>\n",
       "      <td>Wii Sports</td>\n",
       "      <td>Wii</td>\n",
       "      <td>Sports</td>\n",
       "      <td>Nintendo</td>\n",
       "      <td>76.0</td>\n",
       "      <td>8</td>\n",
       "      <td>E</td>\n",
       "    </tr>\n",
       "    <tr>\n",
       "      <th>1</th>\n",
       "      <td>Super Mario Bros.</td>\n",
       "      <td>NES</td>\n",
       "      <td>Platform</td>\n",
       "      <td>NaN</td>\n",
       "      <td>NaN</td>\n",
       "      <td>NaN</td>\n",
       "      <td>NaN</td>\n",
       "    </tr>\n",
       "  </tbody>\n",
       "</table>\n",
       "</div>"
      ],
      "text/plain": [
       "                Name Platform     Genre Developer  Critic_Score User_Score  \\\n",
       "0         Wii Sports      Wii    Sports  Nintendo          76.0          8   \n",
       "1  Super Mario Bros.      NES  Platform       NaN           NaN        NaN   \n",
       "\n",
       "  Rating  \n",
       "0      E  \n",
       "1    NaN  "
      ]
     },
     "execution_count": 3,
     "metadata": {},
     "output_type": "execute_result"
    }
   ],
   "source": [
    "filtered_df = df[['Name', 'Platform', 'Genre', 'Developer', 'Critic_Score', 'User_Score', 'Rating']]\n",
    "filtered_df.head(2)"
   ]
  },
  {
   "cell_type": "code",
   "execution_count": 4,
   "id": "6f21c536-685d-4533-a61d-84fc988e0d8c",
   "metadata": {},
   "outputs": [
    {
     "data": {
      "text/plain": [
       "(16719, 7)"
      ]
     },
     "execution_count": 4,
     "metadata": {},
     "output_type": "execute_result"
    }
   ],
   "source": [
    "filtered_df.shape"
   ]
  },
  {
   "cell_type": "markdown",
   "id": "b02446b3",
   "metadata": {},
   "source": [
    "### Handling missing data points"
   ]
  },
  {
   "cell_type": "code",
   "execution_count": 5,
   "id": "8bbf13ba-3db3-44ab-87b2-668b7b923c78",
   "metadata": {},
   "outputs": [
    {
     "data": {
      "text/plain": [
       "Name               2\n",
       "Platform           0\n",
       "Genre              2\n",
       "Developer       6623\n",
       "Critic_Score    8582\n",
       "User_Score      6704\n",
       "Rating          6769\n",
       "dtype: int64"
      ]
     },
     "execution_count": 5,
     "metadata": {},
     "output_type": "execute_result"
    }
   ],
   "source": [
    "filtered_df.isnull().sum()"
   ]
  },
  {
   "cell_type": "code",
   "execution_count": 6,
   "id": "9767b1d6-e2fd-44e9-af3a-2599af0fd187",
   "metadata": {},
   "outputs": [
    {
     "name": "stderr",
     "output_type": "stream",
     "text": [
      "/var/folders/05/w7q30nw51kqf2q34f0fgz46h0000gn/T/ipykernel_5428/724713040.py:1: SettingWithCopyWarning: \n",
      "A value is trying to be set on a copy of a slice from a DataFrame\n",
      "\n",
      "See the caveats in the documentation: https://pandas.pydata.org/pandas-docs/stable/user_guide/indexing.html#returning-a-view-versus-a-copy\n",
      "  filtered_df.dropna(inplace=True)\n"
     ]
    }
   ],
   "source": [
    "filtered_df.dropna(inplace=True)"
   ]
  },
  {
   "cell_type": "code",
   "execution_count": 7,
   "id": "b28e4cbe-6daf-4360-b774-37ef76015401",
   "metadata": {},
   "outputs": [
    {
     "data": {
      "text/plain": [
       "(8025, 7)"
      ]
     },
     "execution_count": 7,
     "metadata": {},
     "output_type": "execute_result"
    }
   ],
   "source": [
    "filtered_df.shape"
   ]
  },
  {
   "cell_type": "code",
   "execution_count": 8,
   "id": "29fffa86-ac88-4adc-aa50-d76b4cfbc7a9",
   "metadata": {},
   "outputs": [
    {
     "data": {
      "text/plain": [
       "Name            0\n",
       "Platform        0\n",
       "Genre           0\n",
       "Developer       0\n",
       "Critic_Score    0\n",
       "User_Score      0\n",
       "Rating          0\n",
       "dtype: int64"
      ]
     },
     "execution_count": 8,
     "metadata": {},
     "output_type": "execute_result"
    }
   ],
   "source": [
    "filtered_df.isnull().sum()"
   ]
  },
  {
   "cell_type": "markdown",
   "id": "856593a5",
   "metadata": {},
   "source": [
    "### Filter out duplicate entries from the dataset"
   ]
  },
  {
   "cell_type": "code",
   "execution_count": 9,
   "id": "54203c98-6368-4df3-b87d-384cd2be58c2",
   "metadata": {},
   "outputs": [
    {
     "data": {
      "text/plain": [
       "4"
      ]
     },
     "execution_count": 9,
     "metadata": {},
     "output_type": "execute_result"
    }
   ],
   "source": [
    "filtered_df.duplicated().sum()"
   ]
  },
  {
   "cell_type": "code",
   "execution_count": 10,
   "id": "57b80e0d-a75d-4390-abe2-609d143f1f1e",
   "metadata": {},
   "outputs": [
    {
     "data": {
      "text/plain": [
       "0"
      ]
     },
     "execution_count": 10,
     "metadata": {},
     "output_type": "execute_result"
    }
   ],
   "source": [
    "filtered_df = filtered_df.drop_duplicates()\n",
    "filtered_df.duplicated().sum()"
   ]
  },
  {
   "cell_type": "code",
   "execution_count": 11,
   "id": "e77d3958-fa89-4048-96b7-2209a273868f",
   "metadata": {},
   "outputs": [
    {
     "data": {
      "text/plain": [
       "(8021, 7)"
      ]
     },
     "execution_count": 11,
     "metadata": {},
     "output_type": "execute_result"
    }
   ],
   "source": [
    "filtered_df.shape"
   ]
  },
  {
   "cell_type": "markdown",
   "id": "b3978e90",
   "metadata": {},
   "source": [
    "### Remove duplicate entries for game names"
   ]
  },
  {
   "cell_type": "code",
   "execution_count": 12,
   "id": "f50fa6ce-f7b2-4468-b088-8b67f2a43f7c",
   "metadata": {},
   "outputs": [
    {
     "data": {
      "text/plain": [
       "(5012, 7)"
      ]
     },
     "execution_count": 12,
     "metadata": {},
     "output_type": "execute_result"
    }
   ],
   "source": [
    "filtered_df.drop_duplicates(subset='Name', keep='first', inplace=True)\n",
    "filtered_df.shape"
   ]
  },
  {
   "cell_type": "markdown",
   "id": "4baffab4",
   "metadata": {},
   "source": [
    "### Use collections Counter to check the sum of each platform column element"
   ]
  },
  {
   "cell_type": "code",
   "execution_count": 13,
   "id": "fa23d545-2906-47b4-aa34-0f856cd831e0",
   "metadata": {},
   "outputs": [
    {
     "data": {
      "text/plain": [
       "Counter({'PS2': 1174,\n",
       "         'DS': 538,\n",
       "         'PS3': 457,\n",
       "         'X360': 453,\n",
       "         'Wii': 412,\n",
       "         'GBA': 322,\n",
       "         'PSP': 295,\n",
       "         'PC': 290,\n",
       "         'XB': 243,\n",
       "         'PS4': 204,\n",
       "         'PS': 178,\n",
       "         'GC': 140,\n",
       "         '3DS': 134,\n",
       "         'PSV': 80,\n",
       "         'WiiU': 52,\n",
       "         'XOne': 28,\n",
       "         'DC': 12})"
      ]
     },
     "execution_count": 13,
     "metadata": {},
     "output_type": "execute_result"
    }
   ],
   "source": [
    "platform_counter = Counter(filtered_df['Platform'])\n",
    "platform_counter"
   ]
  },
  {
   "cell_type": "markdown",
   "id": "1c37c35b",
   "metadata": {},
   "source": [
    "### Removes columns with counts less than 350"
   ]
  },
  {
   "cell_type": "code",
   "execution_count": 14,
   "id": "85ad3461-13e2-4579-9915-a4e1070f3f88",
   "metadata": {},
   "outputs": [],
   "source": [
    "platform_less_than_350 = ['2600', '3DO', 'DC', 'GB', 'GEN', 'GG', 'N64','NES', 'NG','PCFX', 'SAT', 'SCD', 'SNES', 'TG16', 'WS', 'WiiU', 'XOne']\n",
    "filtered_df = filtered_df[~filtered_df['Platform'].isin(platform_less_than_350)]"
   ]
  },
  {
   "cell_type": "markdown",
   "id": "edd7adae",
   "metadata": {},
   "source": [
    "### Check the sum of each unique Genre"
   ]
  },
  {
   "cell_type": "code",
   "execution_count": 15,
   "id": "da74222a-dc3a-4fa6-8597-e655ad958ec8",
   "metadata": {},
   "outputs": [
    {
     "data": {
      "text/plain": [
       "Counter({'Action': 951,\n",
       "         'Role-Playing': 598,\n",
       "         'Sports': 596,\n",
       "         'Shooter': 536,\n",
       "         'Racing': 414,\n",
       "         'Misc': 336,\n",
       "         'Platform': 305,\n",
       "         'Simulation': 269,\n",
       "         'Fighting': 265,\n",
       "         'Strategy': 235,\n",
       "         'Adventure': 229,\n",
       "         'Puzzle': 186})"
      ]
     },
     "execution_count": 15,
     "metadata": {},
     "output_type": "execute_result"
    }
   ],
   "source": [
    "genre_counter = Counter(filtered_df['Genre'])\n",
    "genre_counter"
   ]
  },
  {
   "cell_type": "markdown",
   "id": "4839eb7b",
   "metadata": {},
   "source": [
    "### Remove row with misc genre"
   ]
  },
  {
   "cell_type": "code",
   "execution_count": 16,
   "id": "cf00ce1b-9a3e-4241-a331-cb69a28025d6",
   "metadata": {},
   "outputs": [],
   "source": [
    "filtered_df = filtered_df[filtered_df['Genre'] != 'Misc']"
   ]
  },
  {
   "cell_type": "markdown",
   "id": "7719a89d",
   "metadata": {},
   "source": [
    "### Use collections Counter to check the sum of each rating column element"
   ]
  },
  {
   "cell_type": "code",
   "execution_count": 17,
   "id": "7586c988-1ab0-4f45-a13b-2c9eddfb4871",
   "metadata": {},
   "outputs": [
    {
     "data": {
      "text/plain": [
       "Counter({'E': 1616, 'T': 1609, 'M': 815, 'E10+': 542, 'RP': 2})"
      ]
     },
     "execution_count": 17,
     "metadata": {},
     "output_type": "execute_result"
    }
   ],
   "source": [
    "rating_counter = Counter(filtered_df['Rating'])\n",
    "rating_counter"
   ]
  },
  {
   "cell_type": "markdown",
   "id": "e23b46e1",
   "metadata": {},
   "source": [
    "### Remove row with RP Rating"
   ]
  },
  {
   "cell_type": "code",
   "execution_count": 18,
   "id": "b95ad453-65e4-4aca-8cbf-8630378dbffe",
   "metadata": {},
   "outputs": [],
   "source": [
    "filtered_df = filtered_df[filtered_df['Rating'] != 'RP']"
   ]
  },
  {
   "cell_type": "code",
   "execution_count": 19,
   "id": "702cea66-f86f-499e-8528-8337dcfec8cc",
   "metadata": {},
   "outputs": [
    {
     "data": {
      "text/plain": [
       "(4582, 7)"
      ]
     },
     "execution_count": 19,
     "metadata": {},
     "output_type": "execute_result"
    }
   ],
   "source": [
    "filtered_df.shape"
   ]
  },
  {
   "cell_type": "markdown",
   "id": "461b8118",
   "metadata": {},
   "source": [
    "### Visualising data distribution"
   ]
  },
  {
   "cell_type": "code",
   "execution_count": 43,
   "id": "8aeb2a1c-bf0e-4ef2-ac35-e08e353b4619",
   "metadata": {},
   "outputs": [
    {
     "data": {
      "image/png": "[encoded data removed]",
      "text/plain": [
       "<Figure size 1300x400 with 1 Axes>"
      ]
     },
     "metadata": {},
     "output_type": "display_data"
    },
    {
     "data": {
      "image/png": "[encoded data removed]",
      "text/plain": [
       "<Figure size 1300x400 with 1 Axes>"
      ]
     },
     "metadata": {},
     "output_type": "display_data"
    },
    {
     "data": {
      "image/png": "[encoded data removed]",
      "text/plain": [
       "<Figure size 1300x400 with 1 Axes>"
      ]
     },
     "metadata": {},
     "output_type": "display_data"
    }
   ],
   "source": [
    "features = filtered_df[['Genre', 'Platform', 'Rating']].columns\n",
    "\n",
    "for idx, feature in enumerate(features):\n",
    "    plt.figure(figsize = (13,4))\n",
    "    sns.countplot(data=filtered_df, x=feature)\n",
    "    plt.xlabel(feature)\n",
    "    plt.ylabel('Frequency')\n",
    "    plt.title(\" Data Distribution of Video Game \" + feature + \"s\")\n",
    "plt.show()"
   ]
  },
  {
   "cell_type": "markdown",
   "id": "b9298125",
   "metadata": {},
   "source": [
    "### Replace 'tbd' value to NaN"
   ]
  },
  {
   "cell_type": "code",
   "execution_count": 21,
   "id": "3f97bed9-a445-4c56-89c1-38bdc7d385ae",
   "metadata": {},
   "outputs": [],
   "source": [
    "filtered_df['User_Score'] = np.where(filtered_df['User_Score'] == 'tbd', np.nan,filtered_df['User_Score']).astype(float)"
   ]
  },
  {
   "cell_type": "markdown",
   "id": "9cd72929",
   "metadata": {},
   "source": [
    "### Group the records by Genre, then aggregate them calculating the average of both Critic Score and User Score"
   ]
  },
  {
   "cell_type": "code",
   "execution_count": 22,
   "id": "c25b2004-b18b-418c-b9ce-e3ad16cd4d2a",
   "metadata": {},
   "outputs": [],
   "source": [
    "\n",
    "video_game_grpby_genre = filtered_df[['Genre', 'Critic_Score', 'User_Score']].groupby('Genre', as_index=False)\n",
    "video_game_score_mean = video_game_grpby_genre.agg(Ave_Critic_Score = ('Critic_Score', 'mean'), Ave_User_Score = ('User_Score', 'mean'))"
   ]
  },
  {
   "cell_type": "markdown",
   "id": "fc2ae198",
   "metadata": {},
   "source": [
    "### Merge the average scores with the main dataframe"
   ]
  },
  {
   "cell_type": "code",
   "execution_count": 23,
   "id": "78b885bb-42fe-4108-9ddb-8c05e97cff70",
   "metadata": {},
   "outputs": [
    {
     "data": {
      "text/html": [
       "<div>\n",
       "<style scoped>\n",
       "    .dataframe tbody tr th:only-of-type {\n",
       "        vertical-align: middle;\n",
       "    }\n",
       "\n",
       "    .dataframe tbody tr th {\n",
       "        vertical-align: top;\n",
       "    }\n",
       "\n",
       "    .dataframe thead th {\n",
       "        text-align: right;\n",
       "    }\n",
       "</style>\n",
       "<table border=\"1\" class=\"dataframe\">\n",
       "  <thead>\n",
       "    <tr style=\"text-align: right;\">\n",
       "      <th></th>\n",
       "      <th>Name</th>\n",
       "      <th>Platform</th>\n",
       "      <th>Genre</th>\n",
       "      <th>Developer</th>\n",
       "      <th>Critic_Score</th>\n",
       "      <th>User_Score</th>\n",
       "      <th>Rating</th>\n",
       "      <th>Ave_Critic_Score</th>\n",
       "      <th>Ave_User_Score</th>\n",
       "    </tr>\n",
       "  </thead>\n",
       "  <tbody>\n",
       "    <tr>\n",
       "      <th>0</th>\n",
       "      <td>Wii Sports</td>\n",
       "      <td>Wii</td>\n",
       "      <td>Sports</td>\n",
       "      <td>Nintendo</td>\n",
       "      <td>76.0</td>\n",
       "      <td>8.0</td>\n",
       "      <td>E</td>\n",
       "      <td>69.630872</td>\n",
       "      <td>7.244581</td>\n",
       "    </tr>\n",
       "    <tr>\n",
       "      <th>1</th>\n",
       "      <td>Wii Sports Resort</td>\n",
       "      <td>Wii</td>\n",
       "      <td>Sports</td>\n",
       "      <td>Nintendo</td>\n",
       "      <td>80.0</td>\n",
       "      <td>8.0</td>\n",
       "      <td>E</td>\n",
       "      <td>69.630872</td>\n",
       "      <td>7.244581</td>\n",
       "    </tr>\n",
       "    <tr>\n",
       "      <th>2</th>\n",
       "      <td>Wii Fit</td>\n",
       "      <td>Wii</td>\n",
       "      <td>Sports</td>\n",
       "      <td>Nintendo</td>\n",
       "      <td>80.0</td>\n",
       "      <td>7.7</td>\n",
       "      <td>E</td>\n",
       "      <td>69.630872</td>\n",
       "      <td>7.244581</td>\n",
       "    </tr>\n",
       "    <tr>\n",
       "      <th>3</th>\n",
       "      <td>Wii Fit Plus</td>\n",
       "      <td>Wii</td>\n",
       "      <td>Sports</td>\n",
       "      <td>Nintendo</td>\n",
       "      <td>80.0</td>\n",
       "      <td>7.4</td>\n",
       "      <td>E</td>\n",
       "      <td>69.630872</td>\n",
       "      <td>7.244581</td>\n",
       "    </tr>\n",
       "    <tr>\n",
       "      <th>4</th>\n",
       "      <td>FIFA 16</td>\n",
       "      <td>PS4</td>\n",
       "      <td>Sports</td>\n",
       "      <td>EA Sports</td>\n",
       "      <td>82.0</td>\n",
       "      <td>4.3</td>\n",
       "      <td>E</td>\n",
       "      <td>69.630872</td>\n",
       "      <td>7.244581</td>\n",
       "    </tr>\n",
       "    <tr>\n",
       "      <th>...</th>\n",
       "      <td>...</td>\n",
       "      <td>...</td>\n",
       "      <td>...</td>\n",
       "      <td>...</td>\n",
       "      <td>...</td>\n",
       "      <td>...</td>\n",
       "      <td>...</td>\n",
       "      <td>...</td>\n",
       "      <td>...</td>\n",
       "    </tr>\n",
       "    <tr>\n",
       "      <th>4577</th>\n",
       "      <td>Homeworld Remastered Collection</td>\n",
       "      <td>PC</td>\n",
       "      <td>Strategy</td>\n",
       "      <td>Gearbox Software</td>\n",
       "      <td>86.0</td>\n",
       "      <td>8.2</td>\n",
       "      <td>E10+</td>\n",
       "      <td>72.403433</td>\n",
       "      <td>7.430909</td>\n",
       "    </tr>\n",
       "    <tr>\n",
       "      <th>4578</th>\n",
       "      <td>BattleForge</td>\n",
       "      <td>PC</td>\n",
       "      <td>Strategy</td>\n",
       "      <td>EA Phenomic</td>\n",
       "      <td>75.0</td>\n",
       "      <td>7.0</td>\n",
       "      <td>T</td>\n",
       "      <td>72.403433</td>\n",
       "      <td>7.430909</td>\n",
       "    </tr>\n",
       "    <tr>\n",
       "      <th>4579</th>\n",
       "      <td>The Eye of Judgment: Legends</td>\n",
       "      <td>PSP</td>\n",
       "      <td>Strategy</td>\n",
       "      <td>SCEI</td>\n",
       "      <td>69.0</td>\n",
       "      <td>7.9</td>\n",
       "      <td>E10+</td>\n",
       "      <td>72.403433</td>\n",
       "      <td>7.430909</td>\n",
       "    </tr>\n",
       "    <tr>\n",
       "      <th>4580</th>\n",
       "      <td>Hospital Tycoon</td>\n",
       "      <td>PC</td>\n",
       "      <td>Strategy</td>\n",
       "      <td>Big Red Software</td>\n",
       "      <td>51.0</td>\n",
       "      <td>3.8</td>\n",
       "      <td>E10+</td>\n",
       "      <td>72.403433</td>\n",
       "      <td>7.430909</td>\n",
       "    </tr>\n",
       "    <tr>\n",
       "      <th>4581</th>\n",
       "      <td>STORM: Frontline Nation</td>\n",
       "      <td>PC</td>\n",
       "      <td>Strategy</td>\n",
       "      <td>SimBin</td>\n",
       "      <td>60.0</td>\n",
       "      <td>7.2</td>\n",
       "      <td>E10+</td>\n",
       "      <td>72.403433</td>\n",
       "      <td>7.430909</td>\n",
       "    </tr>\n",
       "  </tbody>\n",
       "</table>\n",
       "<p>4582 rows × 9 columns</p>\n",
       "</div>"
      ],
      "text/plain": [
       "                                 Name Platform     Genre         Developer  \\\n",
       "0                          Wii Sports      Wii    Sports          Nintendo   \n",
       "1                   Wii Sports Resort      Wii    Sports          Nintendo   \n",
       "2                             Wii Fit      Wii    Sports          Nintendo   \n",
       "3                        Wii Fit Plus      Wii    Sports          Nintendo   \n",
       "4                             FIFA 16      PS4    Sports         EA Sports   \n",
       "...                               ...      ...       ...               ...   \n",
       "4577  Homeworld Remastered Collection       PC  Strategy  Gearbox Software   \n",
       "4578                      BattleForge       PC  Strategy       EA Phenomic   \n",
       "4579     The Eye of Judgment: Legends      PSP  Strategy              SCEI   \n",
       "4580                  Hospital Tycoon       PC  Strategy  Big Red Software   \n",
       "4581          STORM: Frontline Nation       PC  Strategy            SimBin   \n",
       "\n",
       "      Critic_Score  User_Score Rating  Ave_Critic_Score  Ave_User_Score  \n",
       "0             76.0         8.0      E         69.630872        7.244581  \n",
       "1             80.0         8.0      E         69.630872        7.244581  \n",
       "2             80.0         7.7      E         69.630872        7.244581  \n",
       "3             80.0         7.4      E         69.630872        7.244581  \n",
       "4             82.0         4.3      E         69.630872        7.244581  \n",
       "...            ...         ...    ...               ...             ...  \n",
       "4577          86.0         8.2   E10+         72.403433        7.430909  \n",
       "4578          75.0         7.0      T         72.403433        7.430909  \n",
       "4579          69.0         7.9   E10+         72.403433        7.430909  \n",
       "4580          51.0         3.8   E10+         72.403433        7.430909  \n",
       "4581          60.0         7.2   E10+         72.403433        7.430909  \n",
       "\n",
       "[4582 rows x 9 columns]"
      ]
     },
     "execution_count": 23,
     "metadata": {},
     "output_type": "execute_result"
    }
   ],
   "source": [
    "filtered_df = filtered_df.merge(video_game_score_mean, on='Genre')\n",
    "filtered_df"
   ]
  },
  {
   "cell_type": "markdown",
   "id": "9c19dad5-2258-4e1c-8821-5c11ef9d46e2",
   "metadata": {},
   "source": [
    "#### The code handles missing values in the Critic_Score and User_Score columns by replacing them with average scores (Ave_Critic_Score and Ave_User_Score respectively).It uses the np.where function to perform this replacement conditionally.The resulting DataFrame has new columns (Critic_Score_Imputed and User_Score_Imputed) with imputed values."
   ]
  },
  {
   "cell_type": "code",
   "execution_count": 24,
   "id": "304e1979-06e0-4a58-9f93-9788ef3a081f",
   "metadata": {},
   "outputs": [
    {
     "data": {
      "text/html": [
       "<div>\n",
       "<style scoped>\n",
       "    .dataframe tbody tr th:only-of-type {\n",
       "        vertical-align: middle;\n",
       "    }\n",
       "\n",
       "    .dataframe tbody tr th {\n",
       "        vertical-align: top;\n",
       "    }\n",
       "\n",
       "    .dataframe thead th {\n",
       "        text-align: right;\n",
       "    }\n",
       "</style>\n",
       "<table border=\"1\" class=\"dataframe\">\n",
       "  <thead>\n",
       "    <tr style=\"text-align: right;\">\n",
       "      <th></th>\n",
       "      <th>Name</th>\n",
       "      <th>Platform</th>\n",
       "      <th>Genre</th>\n",
       "      <th>Developer</th>\n",
       "      <th>Critic_Score</th>\n",
       "      <th>User_Score</th>\n",
       "      <th>Rating</th>\n",
       "      <th>Ave_Critic_Score</th>\n",
       "      <th>Ave_User_Score</th>\n",
       "      <th>Critic_Score_Imputed</th>\n",
       "      <th>User_Score_Imputed</th>\n",
       "    </tr>\n",
       "  </thead>\n",
       "  <tbody>\n",
       "    <tr>\n",
       "      <th>0</th>\n",
       "      <td>Wii Sports</td>\n",
       "      <td>Wii</td>\n",
       "      <td>Sports</td>\n",
       "      <td>Nintendo</td>\n",
       "      <td>76.0</td>\n",
       "      <td>8.0</td>\n",
       "      <td>E</td>\n",
       "      <td>69.630872</td>\n",
       "      <td>7.244581</td>\n",
       "      <td>76.0</td>\n",
       "      <td>8.0</td>\n",
       "    </tr>\n",
       "    <tr>\n",
       "      <th>1</th>\n",
       "      <td>Wii Sports Resort</td>\n",
       "      <td>Wii</td>\n",
       "      <td>Sports</td>\n",
       "      <td>Nintendo</td>\n",
       "      <td>80.0</td>\n",
       "      <td>8.0</td>\n",
       "      <td>E</td>\n",
       "      <td>69.630872</td>\n",
       "      <td>7.244581</td>\n",
       "      <td>80.0</td>\n",
       "      <td>8.0</td>\n",
       "    </tr>\n",
       "    <tr>\n",
       "      <th>2</th>\n",
       "      <td>Wii Fit</td>\n",
       "      <td>Wii</td>\n",
       "      <td>Sports</td>\n",
       "      <td>Nintendo</td>\n",
       "      <td>80.0</td>\n",
       "      <td>7.7</td>\n",
       "      <td>E</td>\n",
       "      <td>69.630872</td>\n",
       "      <td>7.244581</td>\n",
       "      <td>80.0</td>\n",
       "      <td>7.7</td>\n",
       "    </tr>\n",
       "    <tr>\n",
       "      <th>3</th>\n",
       "      <td>Wii Fit Plus</td>\n",
       "      <td>Wii</td>\n",
       "      <td>Sports</td>\n",
       "      <td>Nintendo</td>\n",
       "      <td>80.0</td>\n",
       "      <td>7.4</td>\n",
       "      <td>E</td>\n",
       "      <td>69.630872</td>\n",
       "      <td>7.244581</td>\n",
       "      <td>80.0</td>\n",
       "      <td>7.4</td>\n",
       "    </tr>\n",
       "    <tr>\n",
       "      <th>4</th>\n",
       "      <td>FIFA 16</td>\n",
       "      <td>PS4</td>\n",
       "      <td>Sports</td>\n",
       "      <td>EA Sports</td>\n",
       "      <td>82.0</td>\n",
       "      <td>4.3</td>\n",
       "      <td>E</td>\n",
       "      <td>69.630872</td>\n",
       "      <td>7.244581</td>\n",
       "      <td>82.0</td>\n",
       "      <td>4.3</td>\n",
       "    </tr>\n",
       "    <tr>\n",
       "      <th>...</th>\n",
       "      <td>...</td>\n",
       "      <td>...</td>\n",
       "      <td>...</td>\n",
       "      <td>...</td>\n",
       "      <td>...</td>\n",
       "      <td>...</td>\n",
       "      <td>...</td>\n",
       "      <td>...</td>\n",
       "      <td>...</td>\n",
       "      <td>...</td>\n",
       "      <td>...</td>\n",
       "    </tr>\n",
       "    <tr>\n",
       "      <th>4577</th>\n",
       "      <td>Homeworld Remastered Collection</td>\n",
       "      <td>PC</td>\n",
       "      <td>Strategy</td>\n",
       "      <td>Gearbox Software</td>\n",
       "      <td>86.0</td>\n",
       "      <td>8.2</td>\n",
       "      <td>E10+</td>\n",
       "      <td>72.403433</td>\n",
       "      <td>7.430909</td>\n",
       "      <td>86.0</td>\n",
       "      <td>8.2</td>\n",
       "    </tr>\n",
       "    <tr>\n",
       "      <th>4578</th>\n",
       "      <td>BattleForge</td>\n",
       "      <td>PC</td>\n",
       "      <td>Strategy</td>\n",
       "      <td>EA Phenomic</td>\n",
       "      <td>75.0</td>\n",
       "      <td>7.0</td>\n",
       "      <td>T</td>\n",
       "      <td>72.403433</td>\n",
       "      <td>7.430909</td>\n",
       "      <td>75.0</td>\n",
       "      <td>7.0</td>\n",
       "    </tr>\n",
       "    <tr>\n",
       "      <th>4579</th>\n",
       "      <td>The Eye of Judgment: Legends</td>\n",
       "      <td>PSP</td>\n",
       "      <td>Strategy</td>\n",
       "      <td>SCEI</td>\n",
       "      <td>69.0</td>\n",
       "      <td>7.9</td>\n",
       "      <td>E10+</td>\n",
       "      <td>72.403433</td>\n",
       "      <td>7.430909</td>\n",
       "      <td>69.0</td>\n",
       "      <td>7.9</td>\n",
       "    </tr>\n",
       "    <tr>\n",
       "      <th>4580</th>\n",
       "      <td>Hospital Tycoon</td>\n",
       "      <td>PC</td>\n",
       "      <td>Strategy</td>\n",
       "      <td>Big Red Software</td>\n",
       "      <td>51.0</td>\n",
       "      <td>3.8</td>\n",
       "      <td>E10+</td>\n",
       "      <td>72.403433</td>\n",
       "      <td>7.430909</td>\n",
       "      <td>51.0</td>\n",
       "      <td>3.8</td>\n",
       "    </tr>\n",
       "    <tr>\n",
       "      <th>4581</th>\n",
       "      <td>STORM: Frontline Nation</td>\n",
       "      <td>PC</td>\n",
       "      <td>Strategy</td>\n",
       "      <td>SimBin</td>\n",
       "      <td>60.0</td>\n",
       "      <td>7.2</td>\n",
       "      <td>E10+</td>\n",
       "      <td>72.403433</td>\n",
       "      <td>7.430909</td>\n",
       "      <td>60.0</td>\n",
       "      <td>7.2</td>\n",
       "    </tr>\n",
       "  </tbody>\n",
       "</table>\n",
       "<p>4582 rows × 11 columns</p>\n",
       "</div>"
      ],
      "text/plain": [
       "                                 Name Platform     Genre         Developer  \\\n",
       "0                          Wii Sports      Wii    Sports          Nintendo   \n",
       "1                   Wii Sports Resort      Wii    Sports          Nintendo   \n",
       "2                             Wii Fit      Wii    Sports          Nintendo   \n",
       "3                        Wii Fit Plus      Wii    Sports          Nintendo   \n",
       "4                             FIFA 16      PS4    Sports         EA Sports   \n",
       "...                               ...      ...       ...               ...   \n",
       "4577  Homeworld Remastered Collection       PC  Strategy  Gearbox Software   \n",
       "4578                      BattleForge       PC  Strategy       EA Phenomic   \n",
       "4579     The Eye of Judgment: Legends      PSP  Strategy              SCEI   \n",
       "4580                  Hospital Tycoon       PC  Strategy  Big Red Software   \n",
       "4581          STORM: Frontline Nation       PC  Strategy            SimBin   \n",
       "\n",
       "      Critic_Score  User_Score Rating  Ave_Critic_Score  Ave_User_Score  \\\n",
       "0             76.0         8.0      E         69.630872        7.244581   \n",
       "1             80.0         8.0      E         69.630872        7.244581   \n",
       "2             80.0         7.7      E         69.630872        7.244581   \n",
       "3             80.0         7.4      E         69.630872        7.244581   \n",
       "4             82.0         4.3      E         69.630872        7.244581   \n",
       "...            ...         ...    ...               ...             ...   \n",
       "4577          86.0         8.2   E10+         72.403433        7.430909   \n",
       "4578          75.0         7.0      T         72.403433        7.430909   \n",
       "4579          69.0         7.9   E10+         72.403433        7.430909   \n",
       "4580          51.0         3.8   E10+         72.403433        7.430909   \n",
       "4581          60.0         7.2   E10+         72.403433        7.430909   \n",
       "\n",
       "      Critic_Score_Imputed  User_Score_Imputed  \n",
       "0                     76.0                 8.0  \n",
       "1                     80.0                 8.0  \n",
       "2                     80.0                 7.7  \n",
       "3                     80.0                 7.4  \n",
       "4                     82.0                 4.3  \n",
       "...                    ...                 ...  \n",
       "4577                  86.0                 8.2  \n",
       "4578                  75.0                 7.0  \n",
       "4579                  69.0                 7.9  \n",
       "4580                  51.0                 3.8  \n",
       "4581                  60.0                 7.2  \n",
       "\n",
       "[4582 rows x 11 columns]"
      ]
     },
     "execution_count": 24,
     "metadata": {},
     "output_type": "execute_result"
    }
   ],
   "source": [
    "filtered_df['Critic_Score_Imputed'] = np.where(filtered_df['Critic_Score'].isna(), \n",
    "                                               filtered_df['Ave_Critic_Score'], \n",
    "                                               filtered_df['Critic_Score'])\n",
    "\n",
    "filtered_df['User_Score_Imputed'] = np.where(filtered_df['User_Score'].isna(), \n",
    "                                             filtered_df['Ave_User_Score'], \n",
    "                                             filtered_df['User_Score'])\n",
    "filtered_df"
   ]
  },
  {
   "cell_type": "code",
   "execution_count": 25,
   "id": "0339a3c3-3b42-444b-8807-a476b3b8eb9e",
   "metadata": {},
   "outputs": [
    {
     "name": "stdout",
     "output_type": "stream",
     "text": [
      "<class 'pandas.core.frame.DataFrame'>\n",
      "RangeIndex: 4582 entries, 0 to 4581\n",
      "Data columns (total 7 columns):\n",
      " #   Column        Non-Null Count  Dtype  \n",
      "---  ------        --------------  -----  \n",
      " 0   Name          4582 non-null   object \n",
      " 1   Platform      4582 non-null   object \n",
      " 2   Genre         4582 non-null   object \n",
      " 3   Developer     4582 non-null   object \n",
      " 4   Rating        4582 non-null   object \n",
      " 5   Critic_Score  4582 non-null   float64\n",
      " 6   User_Score    4582 non-null   float64\n",
      "dtypes: float64(2), object(5)\n",
      "memory usage: 250.7+ KB\n"
     ]
    }
   ],
   "source": [
    "final_df = filtered_df.drop(columns=['User_Score', 'Critic_Score', 'Ave_Critic_Score', 'Ave_User_Score'], axis=1)\n",
    "final_df = final_df.reset_index(drop=True)\n",
    "\n",
    "final_df = final_df.rename(columns={'Critic_Score_Imputed':'Critic_Score', 'User_Score_Imputed':'User_Score'})\n",
    "final_df.info()"
   ]
  },
  {
   "cell_type": "code",
   "execution_count": 26,
   "id": "a4eec3f4-c3d4-4400-bd5b-9642cbe1c502",
   "metadata": {},
   "outputs": [
    {
     "data": {
      "text/html": [
       "<div>\n",
       "<style scoped>\n",
       "    .dataframe tbody tr th:only-of-type {\n",
       "        vertical-align: middle;\n",
       "    }\n",
       "\n",
       "    .dataframe tbody tr th {\n",
       "        vertical-align: top;\n",
       "    }\n",
       "\n",
       "    .dataframe thead th {\n",
       "        text-align: right;\n",
       "    }\n",
       "</style>\n",
       "<table border=\"1\" class=\"dataframe\">\n",
       "  <thead>\n",
       "    <tr style=\"text-align: right;\">\n",
       "      <th></th>\n",
       "      <th>Name</th>\n",
       "      <th>Platform</th>\n",
       "      <th>Genre</th>\n",
       "      <th>Developer</th>\n",
       "      <th>Rating</th>\n",
       "      <th>Critic_Score</th>\n",
       "      <th>User_Score</th>\n",
       "    </tr>\n",
       "  </thead>\n",
       "  <tbody>\n",
       "    <tr>\n",
       "      <th>0</th>\n",
       "      <td>Wii Sports</td>\n",
       "      <td>Wii</td>\n",
       "      <td>Sports</td>\n",
       "      <td>Nintendo</td>\n",
       "      <td>E</td>\n",
       "      <td>76.0</td>\n",
       "      <td>8.0</td>\n",
       "    </tr>\n",
       "    <tr>\n",
       "      <th>1</th>\n",
       "      <td>Wii Sports Resort</td>\n",
       "      <td>Wii</td>\n",
       "      <td>Sports</td>\n",
       "      <td>Nintendo</td>\n",
       "      <td>E</td>\n",
       "      <td>80.0</td>\n",
       "      <td>8.0</td>\n",
       "    </tr>\n",
       "    <tr>\n",
       "      <th>2</th>\n",
       "      <td>Wii Fit</td>\n",
       "      <td>Wii</td>\n",
       "      <td>Sports</td>\n",
       "      <td>Nintendo</td>\n",
       "      <td>E</td>\n",
       "      <td>80.0</td>\n",
       "      <td>7.7</td>\n",
       "    </tr>\n",
       "    <tr>\n",
       "      <th>3</th>\n",
       "      <td>Wii Fit Plus</td>\n",
       "      <td>Wii</td>\n",
       "      <td>Sports</td>\n",
       "      <td>Nintendo</td>\n",
       "      <td>E</td>\n",
       "      <td>80.0</td>\n",
       "      <td>7.4</td>\n",
       "    </tr>\n",
       "    <tr>\n",
       "      <th>4</th>\n",
       "      <td>FIFA 16</td>\n",
       "      <td>PS4</td>\n",
       "      <td>Sports</td>\n",
       "      <td>EA Sports</td>\n",
       "      <td>E</td>\n",
       "      <td>82.0</td>\n",
       "      <td>4.3</td>\n",
       "    </tr>\n",
       "    <tr>\n",
       "      <th>...</th>\n",
       "      <td>...</td>\n",
       "      <td>...</td>\n",
       "      <td>...</td>\n",
       "      <td>...</td>\n",
       "      <td>...</td>\n",
       "      <td>...</td>\n",
       "      <td>...</td>\n",
       "    </tr>\n",
       "    <tr>\n",
       "      <th>4577</th>\n",
       "      <td>Homeworld Remastered Collection</td>\n",
       "      <td>PC</td>\n",
       "      <td>Strategy</td>\n",
       "      <td>Gearbox Software</td>\n",
       "      <td>E10+</td>\n",
       "      <td>86.0</td>\n",
       "      <td>8.2</td>\n",
       "    </tr>\n",
       "    <tr>\n",
       "      <th>4578</th>\n",
       "      <td>BattleForge</td>\n",
       "      <td>PC</td>\n",
       "      <td>Strategy</td>\n",
       "      <td>EA Phenomic</td>\n",
       "      <td>T</td>\n",
       "      <td>75.0</td>\n",
       "      <td>7.0</td>\n",
       "    </tr>\n",
       "    <tr>\n",
       "      <th>4579</th>\n",
       "      <td>The Eye of Judgment: Legends</td>\n",
       "      <td>PSP</td>\n",
       "      <td>Strategy</td>\n",
       "      <td>SCEI</td>\n",
       "      <td>E10+</td>\n",
       "      <td>69.0</td>\n",
       "      <td>7.9</td>\n",
       "    </tr>\n",
       "    <tr>\n",
       "      <th>4580</th>\n",
       "      <td>Hospital Tycoon</td>\n",
       "      <td>PC</td>\n",
       "      <td>Strategy</td>\n",
       "      <td>Big Red Software</td>\n",
       "      <td>E10+</td>\n",
       "      <td>51.0</td>\n",
       "      <td>3.8</td>\n",
       "    </tr>\n",
       "    <tr>\n",
       "      <th>4581</th>\n",
       "      <td>STORM: Frontline Nation</td>\n",
       "      <td>PC</td>\n",
       "      <td>Strategy</td>\n",
       "      <td>SimBin</td>\n",
       "      <td>E10+</td>\n",
       "      <td>60.0</td>\n",
       "      <td>7.2</td>\n",
       "    </tr>\n",
       "  </tbody>\n",
       "</table>\n",
       "<p>4582 rows × 7 columns</p>\n",
       "</div>"
      ],
      "text/plain": [
       "                                 Name Platform     Genre         Developer  \\\n",
       "0                          Wii Sports      Wii    Sports          Nintendo   \n",
       "1                   Wii Sports Resort      Wii    Sports          Nintendo   \n",
       "2                             Wii Fit      Wii    Sports          Nintendo   \n",
       "3                        Wii Fit Plus      Wii    Sports          Nintendo   \n",
       "4                             FIFA 16      PS4    Sports         EA Sports   \n",
       "...                               ...      ...       ...               ...   \n",
       "4577  Homeworld Remastered Collection       PC  Strategy  Gearbox Software   \n",
       "4578                      BattleForge       PC  Strategy       EA Phenomic   \n",
       "4579     The Eye of Judgment: Legends      PSP  Strategy              SCEI   \n",
       "4580                  Hospital Tycoon       PC  Strategy  Big Red Software   \n",
       "4581          STORM: Frontline Nation       PC  Strategy            SimBin   \n",
       "\n",
       "     Rating  Critic_Score  User_Score  \n",
       "0         E          76.0         8.0  \n",
       "1         E          80.0         8.0  \n",
       "2         E          80.0         7.7  \n",
       "3         E          80.0         7.4  \n",
       "4         E          82.0         4.3  \n",
       "...     ...           ...         ...  \n",
       "4577   E10+          86.0         8.2  \n",
       "4578      T          75.0         7.0  \n",
       "4579   E10+          69.0         7.9  \n",
       "4580   E10+          51.0         3.8  \n",
       "4581   E10+          60.0         7.2  \n",
       "\n",
       "[4582 rows x 7 columns]"
      ]
     },
     "execution_count": 26,
     "metadata": {},
     "output_type": "execute_result"
    }
   ],
   "source": [
    "final_df"
   ]
  },
  {
   "cell_type": "markdown",
   "id": "7f2376d3",
   "metadata": {},
   "source": [
    "### Merging all the important attributes in a new tags column to pass to counter vectorizer"
   ]
  },
  {
   "cell_type": "code",
   "execution_count": 27,
   "id": "e6e3eb53-3b4c-4c52-b1d4-5e7db18594be",
   "metadata": {},
   "outputs": [],
   "source": [
    "final_df['tags'] =final_df['Platform'].astype(str) + ',' + \\\n",
    "                    final_df['Genre'].astype(str) + ',' + \\\n",
    "                    final_df['Developer'].astype(str) + ',' + \\\n",
    "                    final_df['Rating'].astype(str) + ',' + \\\n",
    "                    final_df['Critic_Score'].astype(str) + ',' + \\\n",
    "                    final_df['User_Score'].astype(str)\n"
   ]
  },
  {
   "cell_type": "code",
   "execution_count": 28,
   "id": "0f7b8748-c761-413a-aca7-196fa9542116",
   "metadata": {},
   "outputs": [
    {
     "data": {
      "text/plain": [
       "'Wii,Sports,Nintendo,E,76.0,8.0'"
      ]
     },
     "execution_count": 28,
     "metadata": {},
     "output_type": "execute_result"
    }
   ],
   "source": [
    "final_df.iloc[0]['tags']"
   ]
  },
  {
   "cell_type": "markdown",
   "id": "c772a747",
   "metadata": {},
   "source": [
    "### Dataset attributes used for NLP"
   ]
  },
  {
   "cell_type": "code",
   "execution_count": 29,
   "id": "6ab7b4e2-7b36-44d1-9ff1-094dc9919777",
   "metadata": {},
   "outputs": [
    {
     "data": {
      "text/html": [
       "<div>\n",
       "<style scoped>\n",
       "    .dataframe tbody tr th:only-of-type {\n",
       "        vertical-align: middle;\n",
       "    }\n",
       "\n",
       "    .dataframe tbody tr th {\n",
       "        vertical-align: top;\n",
       "    }\n",
       "\n",
       "    .dataframe thead th {\n",
       "        text-align: right;\n",
       "    }\n",
       "</style>\n",
       "<table border=\"1\" class=\"dataframe\">\n",
       "  <thead>\n",
       "    <tr style=\"text-align: right;\">\n",
       "      <th></th>\n",
       "      <th>Name</th>\n",
       "      <th>tags</th>\n",
       "    </tr>\n",
       "  </thead>\n",
       "  <tbody>\n",
       "    <tr>\n",
       "      <th>0</th>\n",
       "      <td>Wii Sports</td>\n",
       "      <td>Wii,Sports,Nintendo,E,76.0,8.0</td>\n",
       "    </tr>\n",
       "    <tr>\n",
       "      <th>1</th>\n",
       "      <td>Wii Sports Resort</td>\n",
       "      <td>Wii,Sports,Nintendo,E,80.0,8.0</td>\n",
       "    </tr>\n",
       "    <tr>\n",
       "      <th>2</th>\n",
       "      <td>Wii Fit</td>\n",
       "      <td>Wii,Sports,Nintendo,E,80.0,7.7</td>\n",
       "    </tr>\n",
       "    <tr>\n",
       "      <th>3</th>\n",
       "      <td>Wii Fit Plus</td>\n",
       "      <td>Wii,Sports,Nintendo,E,80.0,7.4</td>\n",
       "    </tr>\n",
       "    <tr>\n",
       "      <th>4</th>\n",
       "      <td>FIFA 16</td>\n",
       "      <td>PS4,Sports,EA Sports,E,82.0,4.3</td>\n",
       "    </tr>\n",
       "    <tr>\n",
       "      <th>...</th>\n",
       "      <td>...</td>\n",
       "      <td>...</td>\n",
       "    </tr>\n",
       "    <tr>\n",
       "      <th>4577</th>\n",
       "      <td>Homeworld Remastered Collection</td>\n",
       "      <td>PC,Strategy,Gearbox Software,E10+,86.0,8.2</td>\n",
       "    </tr>\n",
       "    <tr>\n",
       "      <th>4578</th>\n",
       "      <td>BattleForge</td>\n",
       "      <td>PC,Strategy,EA Phenomic,T,75.0,7.0</td>\n",
       "    </tr>\n",
       "    <tr>\n",
       "      <th>4579</th>\n",
       "      <td>The Eye of Judgment: Legends</td>\n",
       "      <td>PSP,Strategy,SCEI,E10+,69.0,7.9</td>\n",
       "    </tr>\n",
       "    <tr>\n",
       "      <th>4580</th>\n",
       "      <td>Hospital Tycoon</td>\n",
       "      <td>PC,Strategy,Big Red Software,E10+,51.0,3.8</td>\n",
       "    </tr>\n",
       "    <tr>\n",
       "      <th>4581</th>\n",
       "      <td>STORM: Frontline Nation</td>\n",
       "      <td>PC,Strategy,SimBin,E10+,60.0,7.2</td>\n",
       "    </tr>\n",
       "  </tbody>\n",
       "</table>\n",
       "<p>4582 rows × 2 columns</p>\n",
       "</div>"
      ],
      "text/plain": [
       "                                 Name  \\\n",
       "0                          Wii Sports   \n",
       "1                   Wii Sports Resort   \n",
       "2                             Wii Fit   \n",
       "3                        Wii Fit Plus   \n",
       "4                             FIFA 16   \n",
       "...                               ...   \n",
       "4577  Homeworld Remastered Collection   \n",
       "4578                      BattleForge   \n",
       "4579     The Eye of Judgment: Legends   \n",
       "4580                  Hospital Tycoon   \n",
       "4581          STORM: Frontline Nation   \n",
       "\n",
       "                                            tags  \n",
       "0                 Wii,Sports,Nintendo,E,76.0,8.0  \n",
       "1                 Wii,Sports,Nintendo,E,80.0,8.0  \n",
       "2                 Wii,Sports,Nintendo,E,80.0,7.7  \n",
       "3                 Wii,Sports,Nintendo,E,80.0,7.4  \n",
       "4                PS4,Sports,EA Sports,E,82.0,4.3  \n",
       "...                                          ...  \n",
       "4577  PC,Strategy,Gearbox Software,E10+,86.0,8.2  \n",
       "4578          PC,Strategy,EA Phenomic,T,75.0,7.0  \n",
       "4579             PSP,Strategy,SCEI,E10+,69.0,7.9  \n",
       "4580  PC,Strategy,Big Red Software,E10+,51.0,3.8  \n",
       "4581            PC,Strategy,SimBin,E10+,60.0,7.2  \n",
       "\n",
       "[4582 rows x 2 columns]"
      ]
     },
     "execution_count": 29,
     "metadata": {},
     "output_type": "execute_result"
    }
   ],
   "source": [
    "games = final_df[['Name','tags']]\n",
    "games"
   ]
  },
  {
   "cell_type": "markdown",
   "id": "a3fc7339",
   "metadata": {},
   "source": [
    "### Convert the tags to paragraph form for counter vectorizer"
   ]
  },
  {
   "cell_type": "code",
   "execution_count": 30,
   "id": "2d47d49a-7173-4c28-859a-03f3e6cbd364",
   "metadata": {},
   "outputs": [
    {
     "name": "stderr",
     "output_type": "stream",
     "text": [
      "/var/folders/05/w7q30nw51kqf2q34f0fgz46h0000gn/T/ipykernel_5428/3093056830.py:2: SettingWithCopyWarning: \n",
      "A value is trying to be set on a copy of a slice from a DataFrame.\n",
      "Try using .loc[row_indexer,col_indexer] = value instead\n",
      "\n",
      "See the caveats in the documentation: https://pandas.pydata.org/pandas-docs/stable/user_guide/indexing.html#returning-a-view-versus-a-copy\n",
      "  games['tags'] = games['tags'].apply(lambda x: ' '.join(x.split(',')))\n"
     ]
    },
    {
     "data": {
      "text/html": [
       "<div>\n",
       "<style scoped>\n",
       "    .dataframe tbody tr th:only-of-type {\n",
       "        vertical-align: middle;\n",
       "    }\n",
       "\n",
       "    .dataframe tbody tr th {\n",
       "        vertical-align: top;\n",
       "    }\n",
       "\n",
       "    .dataframe thead th {\n",
       "        text-align: right;\n",
       "    }\n",
       "</style>\n",
       "<table border=\"1\" class=\"dataframe\">\n",
       "  <thead>\n",
       "    <tr style=\"text-align: right;\">\n",
       "      <th></th>\n",
       "      <th>Name</th>\n",
       "      <th>tags</th>\n",
       "    </tr>\n",
       "  </thead>\n",
       "  <tbody>\n",
       "    <tr>\n",
       "      <th>0</th>\n",
       "      <td>Wii Sports</td>\n",
       "      <td>Wii Sports Nintendo E 76.0 8.0</td>\n",
       "    </tr>\n",
       "    <tr>\n",
       "      <th>1</th>\n",
       "      <td>Wii Sports Resort</td>\n",
       "      <td>Wii Sports Nintendo E 80.0 8.0</td>\n",
       "    </tr>\n",
       "    <tr>\n",
       "      <th>2</th>\n",
       "      <td>Wii Fit</td>\n",
       "      <td>Wii Sports Nintendo E 80.0 7.7</td>\n",
       "    </tr>\n",
       "    <tr>\n",
       "      <th>3</th>\n",
       "      <td>Wii Fit Plus</td>\n",
       "      <td>Wii Sports Nintendo E 80.0 7.4</td>\n",
       "    </tr>\n",
       "    <tr>\n",
       "      <th>4</th>\n",
       "      <td>FIFA 16</td>\n",
       "      <td>PS4 Sports EA Sports E 82.0 4.3</td>\n",
       "    </tr>\n",
       "    <tr>\n",
       "      <th>...</th>\n",
       "      <td>...</td>\n",
       "      <td>...</td>\n",
       "    </tr>\n",
       "    <tr>\n",
       "      <th>4577</th>\n",
       "      <td>Homeworld Remastered Collection</td>\n",
       "      <td>PC Strategy Gearbox Software E10+ 86.0 8.2</td>\n",
       "    </tr>\n",
       "    <tr>\n",
       "      <th>4578</th>\n",
       "      <td>BattleForge</td>\n",
       "      <td>PC Strategy EA Phenomic T 75.0 7.0</td>\n",
       "    </tr>\n",
       "    <tr>\n",
       "      <th>4579</th>\n",
       "      <td>The Eye of Judgment: Legends</td>\n",
       "      <td>PSP Strategy SCEI E10+ 69.0 7.9</td>\n",
       "    </tr>\n",
       "    <tr>\n",
       "      <th>4580</th>\n",
       "      <td>Hospital Tycoon</td>\n",
       "      <td>PC Strategy Big Red Software E10+ 51.0 3.8</td>\n",
       "    </tr>\n",
       "    <tr>\n",
       "      <th>4581</th>\n",
       "      <td>STORM: Frontline Nation</td>\n",
       "      <td>PC Strategy SimBin E10+ 60.0 7.2</td>\n",
       "    </tr>\n",
       "  </tbody>\n",
       "</table>\n",
       "<p>4582 rows × 2 columns</p>\n",
       "</div>"
      ],
      "text/plain": [
       "                                 Name  \\\n",
       "0                          Wii Sports   \n",
       "1                   Wii Sports Resort   \n",
       "2                             Wii Fit   \n",
       "3                        Wii Fit Plus   \n",
       "4                             FIFA 16   \n",
       "...                               ...   \n",
       "4577  Homeworld Remastered Collection   \n",
       "4578                      BattleForge   \n",
       "4579     The Eye of Judgment: Legends   \n",
       "4580                  Hospital Tycoon   \n",
       "4581          STORM: Frontline Nation   \n",
       "\n",
       "                                            tags  \n",
       "0                 Wii Sports Nintendo E 76.0 8.0  \n",
       "1                 Wii Sports Nintendo E 80.0 8.0  \n",
       "2                 Wii Sports Nintendo E 80.0 7.7  \n",
       "3                 Wii Sports Nintendo E 80.0 7.4  \n",
       "4                PS4 Sports EA Sports E 82.0 4.3  \n",
       "...                                          ...  \n",
       "4577  PC Strategy Gearbox Software E10+ 86.0 8.2  \n",
       "4578          PC Strategy EA Phenomic T 75.0 7.0  \n",
       "4579             PSP Strategy SCEI E10+ 69.0 7.9  \n",
       "4580  PC Strategy Big Red Software E10+ 51.0 3.8  \n",
       "4581            PC Strategy SimBin E10+ 60.0 7.2  \n",
       "\n",
       "[4582 rows x 2 columns]"
      ]
     },
     "execution_count": 30,
     "metadata": {},
     "output_type": "execute_result"
    }
   ],
   "source": [
    "games['tags'] = games['tags'].apply(lambda x: ' '.join(x.split(',')))\n",
    "games"
   ]
  },
  {
   "cell_type": "markdown",
   "id": "acd0db1e",
   "metadata": {},
   "source": [
    "### Convert all the tags to lower case to avoid duplicate words"
   ]
  },
  {
   "cell_type": "code",
   "execution_count": 31,
   "id": "a330e1fc-479c-4ee0-be04-e224660feb3a",
   "metadata": {},
   "outputs": [
    {
     "name": "stderr",
     "output_type": "stream",
     "text": [
      "/var/folders/05/w7q30nw51kqf2q34f0fgz46h0000gn/T/ipykernel_5428/1762010933.py:2: SettingWithCopyWarning: \n",
      "A value is trying to be set on a copy of a slice from a DataFrame.\n",
      "Try using .loc[row_indexer,col_indexer] = value instead\n",
      "\n",
      "See the caveats in the documentation: https://pandas.pydata.org/pandas-docs/stable/user_guide/indexing.html#returning-a-view-versus-a-copy\n",
      "  games['tags'] = games['tags'].apply(lambda x:x.lower())\n"
     ]
    },
    {
     "data": {
      "text/html": [
       "<div>\n",
       "<style scoped>\n",
       "    .dataframe tbody tr th:only-of-type {\n",
       "        vertical-align: middle;\n",
       "    }\n",
       "\n",
       "    .dataframe tbody tr th {\n",
       "        vertical-align: top;\n",
       "    }\n",
       "\n",
       "    .dataframe thead th {\n",
       "        text-align: right;\n",
       "    }\n",
       "</style>\n",
       "<table border=\"1\" class=\"dataframe\">\n",
       "  <thead>\n",
       "    <tr style=\"text-align: right;\">\n",
       "      <th></th>\n",
       "      <th>Name</th>\n",
       "      <th>tags</th>\n",
       "    </tr>\n",
       "  </thead>\n",
       "  <tbody>\n",
       "    <tr>\n",
       "      <th>0</th>\n",
       "      <td>Wii Sports</td>\n",
       "      <td>wii sports nintendo e 76.0 8.0</td>\n",
       "    </tr>\n",
       "    <tr>\n",
       "      <th>1</th>\n",
       "      <td>Wii Sports Resort</td>\n",
       "      <td>wii sports nintendo e 80.0 8.0</td>\n",
       "    </tr>\n",
       "    <tr>\n",
       "      <th>2</th>\n",
       "      <td>Wii Fit</td>\n",
       "      <td>wii sports nintendo e 80.0 7.7</td>\n",
       "    </tr>\n",
       "    <tr>\n",
       "      <th>3</th>\n",
       "      <td>Wii Fit Plus</td>\n",
       "      <td>wii sports nintendo e 80.0 7.4</td>\n",
       "    </tr>\n",
       "    <tr>\n",
       "      <th>4</th>\n",
       "      <td>FIFA 16</td>\n",
       "      <td>ps4 sports ea sports e 82.0 4.3</td>\n",
       "    </tr>\n",
       "    <tr>\n",
       "      <th>...</th>\n",
       "      <td>...</td>\n",
       "      <td>...</td>\n",
       "    </tr>\n",
       "    <tr>\n",
       "      <th>4577</th>\n",
       "      <td>Homeworld Remastered Collection</td>\n",
       "      <td>pc strategy gearbox software e10+ 86.0 8.2</td>\n",
       "    </tr>\n",
       "    <tr>\n",
       "      <th>4578</th>\n",
       "      <td>BattleForge</td>\n",
       "      <td>pc strategy ea phenomic t 75.0 7.0</td>\n",
       "    </tr>\n",
       "    <tr>\n",
       "      <th>4579</th>\n",
       "      <td>The Eye of Judgment: Legends</td>\n",
       "      <td>psp strategy scei e10+ 69.0 7.9</td>\n",
       "    </tr>\n",
       "    <tr>\n",
       "      <th>4580</th>\n",
       "      <td>Hospital Tycoon</td>\n",
       "      <td>pc strategy big red software e10+ 51.0 3.8</td>\n",
       "    </tr>\n",
       "    <tr>\n",
       "      <th>4581</th>\n",
       "      <td>STORM: Frontline Nation</td>\n",
       "      <td>pc strategy simbin e10+ 60.0 7.2</td>\n",
       "    </tr>\n",
       "  </tbody>\n",
       "</table>\n",
       "<p>4582 rows × 2 columns</p>\n",
       "</div>"
      ],
      "text/plain": [
       "                                 Name  \\\n",
       "0                          Wii Sports   \n",
       "1                   Wii Sports Resort   \n",
       "2                             Wii Fit   \n",
       "3                        Wii Fit Plus   \n",
       "4                             FIFA 16   \n",
       "...                               ...   \n",
       "4577  Homeworld Remastered Collection   \n",
       "4578                      BattleForge   \n",
       "4579     The Eye of Judgment: Legends   \n",
       "4580                  Hospital Tycoon   \n",
       "4581          STORM: Frontline Nation   \n",
       "\n",
       "                                            tags  \n",
       "0                 wii sports nintendo e 76.0 8.0  \n",
       "1                 wii sports nintendo e 80.0 8.0  \n",
       "2                 wii sports nintendo e 80.0 7.7  \n",
       "3                 wii sports nintendo e 80.0 7.4  \n",
       "4                ps4 sports ea sports e 82.0 4.3  \n",
       "...                                          ...  \n",
       "4577  pc strategy gearbox software e10+ 86.0 8.2  \n",
       "4578          pc strategy ea phenomic t 75.0 7.0  \n",
       "4579             psp strategy scei e10+ 69.0 7.9  \n",
       "4580  pc strategy big red software e10+ 51.0 3.8  \n",
       "4581            pc strategy simbin e10+ 60.0 7.2  \n",
       "\n",
       "[4582 rows x 2 columns]"
      ]
     },
     "execution_count": 31,
     "metadata": {},
     "output_type": "execute_result"
    }
   ],
   "source": [
    "games['tags'] = games['tags'].apply(lambda x:x.lower())\n",
    "games"
   ]
  },
  {
   "cell_type": "markdown",
   "id": "1e1a16ed",
   "metadata": {},
   "source": [
    "### Extract root words from a given word to avoid duplicate words"
   ]
  },
  {
   "cell_type": "code",
   "execution_count": 32,
   "id": "946909ea-1b84-4dc4-a10c-d27b5f1b3e13",
   "metadata": {},
   "outputs": [
    {
     "name": "stderr",
     "output_type": "stream",
     "text": [
      "/var/folders/05/w7q30nw51kqf2q34f0fgz46h0000gn/T/ipykernel_5428/3112470953.py:10: SettingWithCopyWarning: \n",
      "A value is trying to be set on a copy of a slice from a DataFrame.\n",
      "Try using .loc[row_indexer,col_indexer] = value instead\n",
      "\n",
      "See the caveats in the documentation: https://pandas.pydata.org/pandas-docs/stable/user_guide/indexing.html#returning-a-view-versus-a-copy\n",
      "  games['tags'] = games['tags'].apply(stems)\n"
     ]
    }
   ],
   "source": [
    "ps = PorterStemmer()\n",
    "\n",
    "def stems(text):\n",
    "    l=[]\n",
    "    for i in text.split():\n",
    "        l.append(ps.stem(i))\n",
    "    return \" \".join(l)\n",
    "\n",
    "games['tags'] = games['tags'].apply(stems)"
   ]
  },
  {
   "cell_type": "code",
   "execution_count": 33,
   "id": "89368179-da29-49fe-9b8d-a795e53fce2b",
   "metadata": {},
   "outputs": [
    {
     "data": {
      "text/plain": [
       "0                   wii sport nintendo e 76.0 8.0\n",
       "1                   wii sport nintendo e 80.0 8.0\n",
       "2                   wii sport nintendo e 80.0 7.7\n",
       "3                   wii sport nintendo e 80.0 7.4\n",
       "4                   ps4 sport ea sport e 82.0 4.3\n",
       "                          ...                    \n",
       "4577    pc strategi gearbox softwar e10+ 86.0 8.2\n",
       "4578             pc strategi ea phenom t 75.0 7.0\n",
       "4579              psp strategi scei e10+ 69.0 7.9\n",
       "4580    pc strategi big red softwar e10+ 51.0 3.8\n",
       "4581             pc strategi simbin e10+ 60.0 7.2\n",
       "Name: tags, Length: 4582, dtype: object"
      ]
     },
     "execution_count": 33,
     "metadata": {},
     "output_type": "execute_result"
    }
   ],
   "source": [
    "games['tags']"
   ]
  },
  {
   "cell_type": "markdown",
   "id": "f2c09d52",
   "metadata": {},
   "source": [
    "### Counter Vectorizer: Forms vectors for all data entries based on attributes"
   ]
  },
  {
   "cell_type": "code",
   "execution_count": 34,
   "id": "b37bc49d-6775-4cab-9220-26f0b6af0514",
   "metadata": {},
   "outputs": [
    {
     "data": {
      "text/plain": [
       "array([[0, 0, 0, ..., 0, 0, 0],\n",
       "       [0, 0, 0, ..., 0, 0, 0],\n",
       "       [0, 0, 0, ..., 0, 0, 0],\n",
       "       ...,\n",
       "       [0, 0, 0, ..., 0, 0, 0],\n",
       "       [0, 0, 0, ..., 0, 0, 0],\n",
       "       [0, 0, 0, ..., 0, 0, 0]])"
      ]
     },
     "execution_count": 34,
     "metadata": {},
     "output_type": "execute_result"
    }
   ],
   "source": [
    "cv = CountVectorizer(max_features=6000, stop_words= 'english')\n",
    "vector = cv.fit_transform(games['tags']).toarray()\n",
    "vector"
   ]
  },
  {
   "cell_type": "code",
   "execution_count": 35,
   "id": "e2ba455c-31b0-45b8-aab8-31ddd831b22d",
   "metadata": {},
   "outputs": [
    {
     "data": {
      "text/plain": [
       "(4582, 1364)"
      ]
     },
     "execution_count": 35,
     "metadata": {},
     "output_type": "execute_result"
    }
   ],
   "source": [
    "vector.shape"
   ]
  },
  {
   "cell_type": "markdown",
   "id": "dd6261ff",
   "metadata": {},
   "source": [
    "### Cosine Similarity: Takes angle between two vectors to decide which vectors are closest to each other"
   ]
  },
  {
   "cell_type": "code",
   "execution_count": 36,
   "id": "a4f69267-89db-4b5b-a42c-83e497d38f4e",
   "metadata": {},
   "outputs": [
    {
     "data": {
      "text/plain": [
       "array([[1.        , 0.75      , 0.75      , ..., 0.        , 0.        ,\n",
       "        0.        ],\n",
       "       [0.75      , 1.        , 1.        , ..., 0.        , 0.        ,\n",
       "        0.        ],\n",
       "       [0.75      , 1.        , 1.        , ..., 0.        , 0.        ,\n",
       "        0.        ],\n",
       "       ...,\n",
       "       [0.        , 0.        , 0.        , ..., 1.        , 0.3380617 ,\n",
       "        0.4       ],\n",
       "       [0.        , 0.        , 0.        , ..., 0.3380617 , 1.        ,\n",
       "        0.50709255],\n",
       "       [0.        , 0.        , 0.        , ..., 0.4       , 0.50709255,\n",
       "        1.        ]])"
      ]
     },
     "execution_count": 36,
     "metadata": {},
     "output_type": "execute_result"
    }
   ],
   "source": [
    "similarity = cosine_similarity(vector)\n",
    "similarity"
   ]
  },
  {
   "cell_type": "code",
   "execution_count": 37,
   "id": "727011b6-010b-4d5f-88bb-89f2732259ee",
   "metadata": {},
   "outputs": [
    {
     "data": {
      "text/plain": [
       "(4582, 4582)"
      ]
     },
     "execution_count": 37,
     "metadata": {},
     "output_type": "execute_result"
    }
   ],
   "source": [
    "similarity.shape"
   ]
  },
  {
   "cell_type": "markdown",
   "id": "c67c7708",
   "metadata": {},
   "source": [
    "### Function to test the recommender system"
   ]
  },
  {
   "cell_type": "code",
   "execution_count": 38,
   "id": "a1c1402e-b28d-4ca4-8714-cf75cd1dad97",
   "metadata": {},
   "outputs": [],
   "source": [
    "def recommend(game):\n",
    "    index = games[games['Name'] == game].index[0]\n",
    "    distances = sorted(list(enumerate(similarity[index])),reverse = True , key = lambda x : x[1]) # Sort on the basis of the key (data) and not the indices\n",
    "    for i in distances[1:6]:\n",
    "        print(games.iloc[i[0]].Name)"
   ]
  },
  {
   "cell_type": "code",
   "execution_count": 39,
   "id": "82bda5d8-52c6-4253-bed6-880309ec3f4e",
   "metadata": {},
   "outputs": [
    {
     "name": "stdout",
     "output_type": "stream",
     "text": [
      "Grand Theft Auto: San Andreas\n",
      "Grand Theft Auto: Vice City\n",
      "Grand Theft Auto IV\n",
      "Manhunt\n",
      "Red Dead Redemption\n"
     ]
    }
   ],
   "source": [
    "recommend('Grand Theft Auto V')"
   ]
  },
  {
   "cell_type": "markdown",
   "id": "4d52d787",
   "metadata": {},
   "source": [
    "### Store Data in Pickle files"
   ]
  },
  {
   "cell_type": "code",
   "execution_count": 40,
   "id": "942ac947-ee3b-4275-aca7-dfc18290e63a",
   "metadata": {},
   "outputs": [],
   "source": [
    "pickle.dump(games, open('artifacts/game_list.pkl','wb'))\n",
    "pickle.dump(similarity, open('artifacts/similarity.pkl','wb'))"
   ]
  }
 ],
 "metadata": {
  "kernelspec": {
   "display_name": "Python 3 (ipykernel)",
   "language": "python",
   "name": "python3"
  },
  "language_info": {
   "codemirror_mode": {
    "name": "ipython",
    "version": 3
   },
   "file_extension": ".py",
   "mimetype": "text/x-python",
   "name": "python",
   "nbconvert_exporter": "python",
   "pygments_lexer": "ipython3",
   "version": "3.11.7"
  }
 },
 "nbformat": 4,
 "nbformat_minor": 5
}
